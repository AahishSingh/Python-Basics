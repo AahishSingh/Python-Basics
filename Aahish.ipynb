{
 "cells": [
  {
   "cell_type": "code",
   "execution_count": 1,
   "id": "a83eb1f3",
   "metadata": {},
   "outputs": [
    {
     "name": "stdout",
     "output_type": "stream",
     "text": [
      "Hello World!\n"
     ]
    }
   ],
   "source": [
    "print('Hello World!')"
   ]
  },
  {
   "cell_type": "code",
   "execution_count": 2,
   "id": "8a3375f7",
   "metadata": {
    "scrolled": true
   },
   "outputs": [
    {
     "name": "stdout",
     "output_type": "stream",
     "text": [
      "What is your name?\n",
      "Aahish\n",
      "it is good to meet you Aahish\n",
      "length of your name is\n",
      "6\n",
      "What is your age?\n",
      "20\n",
      "You will be 21 in a year\n"
     ]
    }
   ],
   "source": [
    "print(\"What is your name?\")\n",
    "name=input()\n",
    "print(\"it is good to meet you \" + name)\n",
    "print('length of your name is')\n",
    "print(len(name))\n",
    "print('What is your age?')\n",
    "age=input()\n",
    "print('You will be ' + str(int(age)+1)+' in a year')"
   ]
  },
  {
   "cell_type": "code",
   "execution_count": 3,
   "id": "03e4af7e",
   "metadata": {},
   "outputs": [
    {
     "name": "stdout",
     "output_type": "stream",
     "text": [
      "28\n"
     ]
    }
   ],
   "source": [
    "spam = input()"
   ]
  },
  {
   "cell_type": "markdown",
   "id": "1cbffa1d",
   "metadata": {},
   "source": [
    "spam = int(spam)\n",
    "spam"
   ]
  },
  {
   "cell_type": "code",
   "execution_count": 4,
   "id": "a64ea35b",
   "metadata": {},
   "outputs": [
    {
     "data": {
      "text/plain": [
       "'Jai Shree Ram'"
      ]
     },
     "execution_count": 4,
     "metadata": {},
     "output_type": "execute_result"
    }
   ],
   "source": [
    "'Jai' + ' Shree' + ' Ram'"
   ]
  },
  {
   "cell_type": "code",
   "execution_count": 5,
   "id": "084bce18",
   "metadata": {},
   "outputs": [
    {
     "data": {
      "text/plain": [
       "'Aahish Aayan'"
      ]
     },
     "execution_count": 5,
     "metadata": {},
     "output_type": "execute_result"
    }
   ],
   "source": [
    "'Aahish ' + 'Aayan'"
   ]
  },
  {
   "cell_type": "code",
   "execution_count": 6,
   "id": "e94ef51e",
   "metadata": {},
   "outputs": [
    {
     "data": {
      "text/plain": [
       "'Ram Ram Ram Ram Ram Ram Ram Ram Ram Ram Ram Ram Ram Ram Ram Ram Ram Ram Ram Ram Ram Ram Ram Ram Ram Ram Ram Ram Ram Ram Ram Ram Ram Ram Ram Ram Ram Ram Ram Ram Ram Ram Ram Ram Ram Ram Ram Ram Ram Ram Ram Ram Ram Ram Ram Ram Ram Ram Ram Ram Ram Ram Ram Ram Ram Ram Ram Ram Ram Ram Ram Ram Ram Ram Ram Ram Ram Ram Ram Ram Ram Ram Ram Ram Ram Ram Ram Ram Ram Ram Ram Ram Ram Ram Ram Ram Ram Ram Ram Ram Ram Ram Ram Ram Ram Ram Ram Ram '"
      ]
     },
     "execution_count": 6,
     "metadata": {},
     "output_type": "execute_result"
    }
   ],
   "source": [
    "'Ram ' * 108"
   ]
  },
  {
   "cell_type": "code",
   "execution_count": 7,
   "id": "ac9d78d4",
   "metadata": {},
   "outputs": [
    {
     "data": {
      "text/plain": [
       "40"
      ]
     },
     "execution_count": 7,
     "metadata": {},
     "output_type": "execute_result"
    }
   ],
   "source": [
    "a = 40\n",
    "a"
   ]
  },
  {
   "cell_type": "code",
   "execution_count": 8,
   "id": "c422476b",
   "metadata": {},
   "outputs": [
    {
     "data": {
      "text/plain": [
       "42"
      ]
     },
     "execution_count": 8,
     "metadata": {},
     "output_type": "execute_result"
    }
   ],
   "source": [
    "b = 2\n",
    "a+b"
   ]
  },
  {
   "cell_type": "code",
   "execution_count": 9,
   "id": "57fe8168",
   "metadata": {},
   "outputs": [
    {
     "data": {
      "text/plain": [
       "82"
      ]
     },
     "execution_count": 9,
     "metadata": {},
     "output_type": "execute_result"
    }
   ],
   "source": [
    "a+b+a"
   ]
  },
  {
   "cell_type": "code",
   "execution_count": 10,
   "id": "c3f12bca",
   "metadata": {},
   "outputs": [
    {
     "data": {
      "text/plain": [
       "'0'"
      ]
     },
     "execution_count": 10,
     "metadata": {},
     "output_type": "execute_result"
    }
   ],
   "source": [
    "str(0)"
   ]
  },
  {
   "cell_type": "code",
   "execution_count": 11,
   "id": "d1b5b2da",
   "metadata": {},
   "outputs": [
    {
     "data": {
      "text/plain": [
       "'-3.14'"
      ]
     },
     "execution_count": 11,
     "metadata": {},
     "output_type": "execute_result"
    }
   ],
   "source": [
    "str(-3.14)"
   ]
  },
  {
   "cell_type": "code",
   "execution_count": 12,
   "id": "e348f14a",
   "metadata": {},
   "outputs": [
    {
     "data": {
      "text/plain": [
       "42"
      ]
     },
     "execution_count": 12,
     "metadata": {},
     "output_type": "execute_result"
    }
   ],
   "source": [
    "int('42')"
   ]
  },
  {
   "cell_type": "code",
   "execution_count": 13,
   "id": "227c07c6",
   "metadata": {},
   "outputs": [
    {
     "data": {
      "text/plain": [
       "-99"
      ]
     },
     "execution_count": 13,
     "metadata": {},
     "output_type": "execute_result"
    }
   ],
   "source": [
    "int('-99')"
   ]
  },
  {
   "cell_type": "code",
   "execution_count": 14,
   "id": "98370753",
   "metadata": {},
   "outputs": [
    {
     "data": {
      "text/plain": [
       "1"
      ]
     },
     "execution_count": 14,
     "metadata": {},
     "output_type": "execute_result"
    }
   ],
   "source": [
    "int(1.25)"
   ]
  },
  {
   "cell_type": "code",
   "execution_count": 15,
   "id": "e631466e",
   "metadata": {},
   "outputs": [
    {
     "data": {
      "text/plain": [
       "1"
      ]
     },
     "execution_count": 15,
     "metadata": {},
     "output_type": "execute_result"
    }
   ],
   "source": [
    "int(1.99)"
   ]
  },
  {
   "cell_type": "code",
   "execution_count": 16,
   "id": "0164479f",
   "metadata": {},
   "outputs": [
    {
     "data": {
      "text/plain": [
       "3.14"
      ]
     },
     "execution_count": 16,
     "metadata": {},
     "output_type": "execute_result"
    }
   ],
   "source": [
    "float('3.14')"
   ]
  },
  {
   "cell_type": "code",
   "execution_count": 17,
   "id": "e9991362",
   "metadata": {},
   "outputs": [
    {
     "data": {
      "text/plain": [
       "10.0"
      ]
     },
     "execution_count": 17,
     "metadata": {},
     "output_type": "execute_result"
    }
   ],
   "source": [
    "float(10)"
   ]
  },
  {
   "cell_type": "code",
   "execution_count": 18,
   "id": "3db9c064",
   "metadata": {},
   "outputs": [
    {
     "data": {
      "text/plain": [
       "True"
      ]
     },
     "execution_count": 18,
     "metadata": {},
     "output_type": "execute_result"
    }
   ],
   "source": [
    "spam = True\n",
    "spam"
   ]
  },
  {
   "cell_type": "code",
   "execution_count": 19,
   "id": "082be597",
   "metadata": {},
   "outputs": [
    {
     "data": {
      "text/plain": [
       "True"
      ]
     },
     "execution_count": 19,
     "metadata": {},
     "output_type": "execute_result"
    }
   ],
   "source": [
    "True"
   ]
  },
  {
   "cell_type": "code",
   "execution_count": 51,
   "id": "439ae249",
   "metadata": {},
   "outputs": [
    {
     "data": {
      "text/plain": [
       "True"
      ]
     },
     "execution_count": 51,
     "metadata": {},
     "output_type": "execute_result"
    }
   ],
   "source": [
    "4 == 2 + 2"
   ]
  },
  {
   "cell_type": "code",
   "execution_count": 21,
   "id": "fa8a6e31",
   "metadata": {},
   "outputs": [
    {
     "data": {
      "text/plain": [
       "True"
      ]
     },
     "execution_count": 21,
     "metadata": {},
     "output_type": "execute_result"
    }
   ],
   "source": [
    "42 == 42"
   ]
  },
  {
   "cell_type": "code",
   "execution_count": 22,
   "id": "3fe0f592",
   "metadata": {},
   "outputs": [
    {
     "data": {
      "text/plain": [
       "False"
      ]
     },
     "execution_count": 22,
     "metadata": {},
     "output_type": "execute_result"
    }
   ],
   "source": [
    "42 == 99"
   ]
  },
  {
   "cell_type": "code",
   "execution_count": 23,
   "id": "08056426",
   "metadata": {},
   "outputs": [
    {
     "data": {
      "text/plain": [
       "True"
      ]
     },
     "execution_count": 23,
     "metadata": {},
     "output_type": "execute_result"
    }
   ],
   "source": [
    "2 != 3"
   ]
  },
  {
   "cell_type": "code",
   "execution_count": 24,
   "id": "df90798d",
   "metadata": {},
   "outputs": [
    {
     "data": {
      "text/plain": [
       "False"
      ]
     },
     "execution_count": 24,
     "metadata": {},
     "output_type": "execute_result"
    }
   ],
   "source": [
    "2 != 2"
   ]
  },
  {
   "cell_type": "code",
   "execution_count": 25,
   "id": "e4a9f820",
   "metadata": {},
   "outputs": [
    {
     "data": {
      "text/plain": [
       "True"
      ]
     },
     "execution_count": 25,
     "metadata": {},
     "output_type": "execute_result"
    }
   ],
   "source": [
    "'hello' == 'hello'"
   ]
  },
  {
   "cell_type": "code",
   "execution_count": 26,
   "id": "fc2b21a1",
   "metadata": {},
   "outputs": [
    {
     "data": {
      "text/plain": [
       "False"
      ]
     },
     "execution_count": 26,
     "metadata": {},
     "output_type": "execute_result"
    }
   ],
   "source": [
    "'Hello' == 'hello'"
   ]
  },
  {
   "cell_type": "code",
   "execution_count": 27,
   "id": "a382232f",
   "metadata": {},
   "outputs": [
    {
     "data": {
      "text/plain": [
       "False"
      ]
     },
     "execution_count": 27,
     "metadata": {},
     "output_type": "execute_result"
    }
   ],
   "source": [
    "'dog ' == 'dog'"
   ]
  },
  {
   "cell_type": "code",
   "execution_count": 28,
   "id": "2c2c5b52",
   "metadata": {},
   "outputs": [
    {
     "data": {
      "text/plain": [
       "True"
      ]
     },
     "execution_count": 28,
     "metadata": {},
     "output_type": "execute_result"
    }
   ],
   "source": [
    "42 == 42.00"
   ]
  },
  {
   "cell_type": "code",
   "execution_count": 29,
   "id": "96cd800a",
   "metadata": {},
   "outputs": [
    {
     "data": {
      "text/plain": [
       "False"
      ]
     },
     "execution_count": 29,
     "metadata": {},
     "output_type": "execute_result"
    }
   ],
   "source": [
    "42 == '42'"
   ]
  },
  {
   "cell_type": "code",
   "execution_count": 30,
   "id": "6fa10f18",
   "metadata": {},
   "outputs": [
    {
     "data": {
      "text/plain": [
       "True"
      ]
     },
     "execution_count": 30,
     "metadata": {},
     "output_type": "execute_result"
    }
   ],
   "source": [
    "43 < 100"
   ]
  },
  {
   "cell_type": "code",
   "execution_count": 31,
   "id": "d8939810",
   "metadata": {},
   "outputs": [
    {
     "data": {
      "text/plain": [
       "False"
      ]
     },
     "execution_count": 31,
     "metadata": {},
     "output_type": "execute_result"
    }
   ],
   "source": [
    "a = 100\n",
    "a >= 101"
   ]
  },
  {
   "cell_type": "code",
   "execution_count": 32,
   "id": "b910c4c3",
   "metadata": {},
   "outputs": [
    {
     "data": {
      "text/plain": [
       "True"
      ]
     },
     "execution_count": 32,
     "metadata": {},
     "output_type": "execute_result"
    }
   ],
   "source": [
    "a <= 101"
   ]
  },
  {
   "cell_type": "code",
   "execution_count": 33,
   "id": "70b8382d",
   "metadata": {},
   "outputs": [
    {
     "data": {
      "text/plain": [
       "False"
      ]
     },
     "execution_count": 33,
     "metadata": {},
     "output_type": "execute_result"
    }
   ],
   "source": [
    "(4 == 4) and (5 == 3)"
   ]
  },
  {
   "cell_type": "code",
   "execution_count": 34,
   "id": "4c7dd85e",
   "metadata": {},
   "outputs": [
    {
     "data": {
      "text/plain": [
       "True"
      ]
     },
     "execution_count": 34,
     "metadata": {},
     "output_type": "execute_result"
    }
   ],
   "source": [
    "('aahish' == 'aahish') or ('anurag' == 'aayan')"
   ]
  },
  {
   "cell_type": "code",
   "execution_count": 35,
   "id": "86da3873",
   "metadata": {},
   "outputs": [
    {
     "data": {
      "text/plain": [
       "True"
      ]
     },
     "execution_count": 35,
     "metadata": {},
     "output_type": "execute_result"
    }
   ],
   "source": [
    "('Aahish' == 'aahish') or ('Aayan' == \"Aayan\")"
   ]
  },
  {
   "cell_type": "code",
   "execution_count": 36,
   "id": "91e32a08",
   "metadata": {},
   "outputs": [
    {
     "name": "stdout",
     "output_type": "stream",
     "text": [
      "Who are you?\n",
      "\n",
      "Who are you?\n",
      "Joe\n",
      "Hello, Joe. What is the password?(It is a fish.)\n",
      "swordfish\n",
      "Access granted.\n"
     ]
    }
   ],
   "source": [
    "while True:\n",
    "    print ('Who are you?')\n",
    "    name = input()\n",
    "    if name != 'Joe':\n",
    "        continue\n",
    "    print('Hello, Joe. What is the password?(It is a fish.)')\n",
    "    password = input()\n",
    "    if password == 'swordfish':\n",
    "        break\n",
    "print('Access granted.')"
   ]
  },
  {
   "cell_type": "code",
   "execution_count": 37,
   "id": "3829b541",
   "metadata": {},
   "outputs": [
    {
     "name": "stdout",
     "output_type": "stream",
     "text": [
      "My name is\n",
      "Aahish (0)\n",
      "Aahish (1)\n",
      "Aahish (2)\n",
      "Aahish (3)\n",
      "Aahish (4)\n"
     ]
    }
   ],
   "source": [
    "print('My name is')\n",
    "for i in range (5):\n",
    " print('Aahish (' +str(i) + ')')"
   ]
  },
  {
   "cell_type": "code",
   "execution_count": 38,
   "id": "0df6affa",
   "metadata": {
    "scrolled": true
   },
   "outputs": [
    {
     "name": "stdout",
     "output_type": "stream",
     "text": [
      "12\n",
      "13\n",
      "14\n",
      "15\n"
     ]
    }
   ],
   "source": [
    "for i in range (12,16):\n",
    "    print(i)"
   ]
  },
  {
   "cell_type": "code",
   "execution_count": 39,
   "id": "cbc51af3",
   "metadata": {},
   "outputs": [
    {
     "name": "stdout",
     "output_type": "stream",
     "text": [
      "4\n",
      "3\n",
      "2\n",
      "1\n",
      "0\n"
     ]
    }
   ],
   "source": [
    "for i in range (4, -1, -1):\n",
    "    print(i)"
   ]
  },
  {
   "cell_type": "code",
   "execution_count": 40,
   "id": "8bb05853",
   "metadata": {},
   "outputs": [
    {
     "name": "stdout",
     "output_type": "stream",
     "text": [
      "0\n",
      "2\n",
      "4\n",
      "6\n",
      "8\n"
     ]
    }
   ],
   "source": [
    "for i in range (0, 10, 2):\n",
    "    print(i)"
   ]
  },
  {
   "cell_type": "code",
   "execution_count": 41,
   "id": "6ac0ecab",
   "metadata": {},
   "outputs": [
    {
     "name": "stdout",
     "output_type": "stream",
     "text": [
      "9\n",
      "10\n",
      "5\n",
      "8\n",
      "5\n"
     ]
    }
   ],
   "source": [
    "import random\n",
    "for i in range (5):\n",
    "    print(random.randint(1,10))"
   ]
  },
  {
   "cell_type": "code",
   "execution_count": 42,
   "id": "2b3d0423",
   "metadata": {},
   "outputs": [
    {
     "name": "stdout",
     "output_type": "stream",
     "text": [
      "Type exit to exit.\n",
      "\n",
      "You typed .\n",
      "Type exit to exit.\n",
      "\n",
      "You typed .\n",
      "Type exit to exit.\n",
      "\n",
      "You typed .\n",
      "Type exit to exit.\n",
      "\n",
      "You typed .\n",
      "Type exit to exit.\n",
      "\n",
      "You typed .\n",
      "Type exit to exit.\n",
      "exit\n"
     ]
    },
    {
     "ename": "SystemExit",
     "evalue": "",
     "output_type": "error",
     "traceback": [
      "An exception has occurred, use %tb to see the full traceback.\n",
      "\u001b[1;31mSystemExit\u001b[0m\n"
     ]
    },
    {
     "name": "stderr",
     "output_type": "stream",
     "text": [
      "C:\\Users\\CSD 43\\anaconda3\\lib\\site-packages\\IPython\\core\\interactiveshell.py:3468: UserWarning: To exit: use 'exit', 'quit', or Ctrl-D.\n",
      "  warn(\"To exit: use 'exit', 'quit', or Ctrl-D.\", stacklevel=1)\n"
     ]
    }
   ],
   "source": [
    "import sys\n",
    "\n",
    "while True:\n",
    "    print('Type exit to exit.')\n",
    "    response = input()\n",
    "    if response == 'exit':\n",
    "        sys.exit()\n",
    "    print('You typed ' + response + '.')"
   ]
  },
  {
   "cell_type": "code",
   "execution_count": 43,
   "id": "faefa9a0",
   "metadata": {},
   "outputs": [
    {
     "name": "stdout",
     "output_type": "stream",
     "text": [
      "Aahish\n",
      "Aayan\n",
      "Singh\n"
     ]
    }
   ],
   "source": [
    "def hello():\n",
    "    print('Aahish')\n",
    "    print('Aayan')\n",
    "    print('Singh')\n",
    "    \n",
    "hello()"
   ]
  },
  {
   "cell_type": "code",
   "execution_count": 44,
   "id": "5225de9c",
   "metadata": {},
   "outputs": [
    {
     "name": "stdout",
     "output_type": "stream",
     "text": [
      "hey there!Aahish\n",
      "hey there!Manav\n"
     ]
    }
   ],
   "source": [
    "def h(n):\n",
    "    print('hey there!' + n)\n",
    "    \n",
    "h('Aahish')\n",
    "h('Manav')"
   ]
  },
  {
   "cell_type": "code",
   "execution_count": 45,
   "id": "d990bed7",
   "metadata": {},
   "outputs": [
    {
     "name": "stdout",
     "output_type": "stream",
     "text": [
      "NO\n"
     ]
    }
   ],
   "source": [
    "import random\n",
    "\n",
    "def getAns(ans):\n",
    "    if ans == 1:\n",
    "        return 'It is certain'\n",
    "    elif ans == 2:\n",
    "        return 'It is so'\n",
    "    elif ans == 3:\n",
    "        return 'Yes'\n",
    "    elif ans == 4:\n",
    "        return 'NO'\n",
    "    elif ans == 5:\n",
    "        return 'try again'\n",
    "    \n",
    "r = random.randint(1,5)\n",
    "fortune = getAns(r)\n",
    "print(fortune)"
   ]
  },
  {
   "cell_type": "code",
   "execution_count": 46,
   "id": "c764f3f2",
   "metadata": {},
   "outputs": [
    {
     "name": "stdout",
     "output_type": "stream",
     "text": [
      "cats dogs mice\n"
     ]
    }
   ],
   "source": [
    "print('cats', 'dogs', 'mice', )"
   ]
  },
  {
   "cell_type": "code",
   "execution_count": 47,
   "id": "b9cb16a5",
   "metadata": {},
   "outputs": [
    {
     "name": "stdout",
     "output_type": "stream",
     "text": [
      "HelloWorld\n"
     ]
    }
   ],
   "source": [
    "print('Hello',end=\"\")\n",
    "print('World')"
   ]
  },
  {
   "cell_type": "code",
   "execution_count": 48,
   "id": "913a1b58",
   "metadata": {},
   "outputs": [
    {
     "name": "stdout",
     "output_type": "stream",
     "text": [
      "\n"
     ]
    }
   ],
   "source": [
    "def s():\n",
    "    a=99\n",
    "    b()\n",
    "print()"
   ]
  },
  {
   "cell_type": "code",
   "execution_count": 49,
   "id": "9f8c3812",
   "metadata": {},
   "outputs": [
    {
     "name": "stdout",
     "output_type": "stream",
     "text": [
      "Enter a binary number : 10111001\n",
      "185\n",
      "Enter a octal number : 675\n",
      "1BD\n"
     ]
    }
   ],
   "source": [
    "def bin2Dec(val):\n",
    "    rev=val[::-1]\n",
    "    dec = 0\n",
    "    i = 0\n",
    "    for dig in rev:\n",
    "        dec += int(dig) * 2**i\n",
    "        i += 1\n",
    " \n",
    "    return dec\n",
    "\n",
    "def oct2Hex(val):\n",
    "    rev=val[::-1]\n",
    "    dec = 0\n",
    "    i = 0\n",
    "    for dig in rev:\n",
    "        dec += int(dig) * 8**i\n",
    "        i += 1\n",
    "    list=[]\n",
    "    while dec != 0:\n",
    "        list.append(dec%16)\n",
    "        dec = dec // 16\n",
    " \n",
    "    nl=[]\n",
    "    for elem in list[::-1]:\n",
    "        if elem <= 9:\n",
    "            nl.append(str(elem))\n",
    "        else:\n",
    "            nl.append(chr(ord('A') + (elem -10)))\n",
    "    hex = \"\".join(nl)\n",
    "    return hex\n",
    "\n",
    "num1 = input(\"Enter a binary number : \") \n",
    "print(bin2Dec(num1))\n",
    "num2 = input(\"Enter a octal number : \")\n",
    "print(oct2Hex(num2))"
   ]
  },
  {
   "cell_type": "code",
   "execution_count": 54,
   "id": "5344665f",
   "metadata": {},
   "outputs": [
    {
     "name": "stdout",
     "output_type": "stream",
     "text": [
      "Enter a sentence : Hello! My name is Aahish. I am 20 years old.\n",
      "This sentence has 10 words\n",
      "This sentence has 2 digits 4 upper case letters 26 lower case letters\n"
     ]
    }
   ],
   "source": [
    "sentence = input(\"Enter a sentence : \")\n",
    "\n",
    "wordList = sentence.split(\" \")\n",
    "print(\"This sentence has\", len(wordList), \"words\")\n",
    "\n",
    "digCnt = upCnt = loCnt = 0\n",
    "\n",
    "for ch in sentence:\n",
    "    if '0' <= ch <= '9':\n",
    "        digCnt += 1\n",
    "    elif 'A' <= ch <= 'Z':\n",
    "        upCnt += 1\n",
    "    elif 'a' <= ch <= 'z':\n",
    "        loCnt += 1\n",
    "print(\"This sentence has\", digCnt, \"digits\", upCnt, \"upper case letters\", loCnt, \n",
    "\"lower case letters\")"
   ]
  },
  {
   "cell_type": "code",
   "execution_count": 1,
   "id": "2ebe5210",
   "metadata": {},
   "outputs": [
    {
     "name": "stdout",
     "output_type": "stream",
     "text": [
      "Enter String 1 \n",
      "Aahish\n",
      "Enter String 2 \n",
      "Aahish\n",
      "Similarity between two said strings:\n",
      "1.0\n"
     ]
    }
   ],
   "source": [
    "str1 = input(\"Enter String 1 \\n\")\n",
    "str2 = input(\"Enter String 2 \\n\")\n",
    "if len(str2) < len(str1):\n",
    "    short = len(str2)\n",
    "    long = len(str1)\n",
    "else:\n",
    "    short = len(str1)\n",
    "    long = len(str2)\n",
    "    \n",
    "matchCnt = 0\n",
    "for i in range(short):\n",
    "    if str1[i] == str2[i]:\n",
    "        matchCnt += 1\n",
    "print(\"Similarity between two said strings:\")\n",
    "print(matchCnt/long)\n"
   ]
  },
  {
   "cell_type": "code",
   "execution_count": 10,
   "id": "4a8876f9",
   "metadata": {},
   "outputs": [
    {
     "name": "stdout",
     "output_type": "stream",
     "text": [
      "\n",
      "Unsorted List\n",
      "[321, 602, 357, 673, 20, 145, 884, 402, 948, 157]\n",
      "Sorting using Insertion Sort\n",
      "[20, 145, 157, 321, 357, 402, 602, 673, 884, 948]\n",
      "\n",
      "Unsorted List\n",
      "[546, 800, 358, 307, 168, 7, 788, 964, 446, 537]\n",
      "Sorting using Merge Sort\n",
      "[7, 168, 307, 358, 446, 537, 546, 788, 800, 964]\n"
     ]
    }
   ],
   "source": [
    "import random\n",
    "def merge_sort(lst):\n",
    "    if len(lst) > 1:\n",
    "        mid = len(lst) // 2\n",
    "        left_half = lst[:mid]\n",
    "        right_half = lst[mid:]\n",
    "        \n",
    "        merge_sort(left_half)\n",
    "        merge_sort(right_half)\n",
    "        \n",
    "        i = j = k = 0\n",
    "        \n",
    "        while i < len(left_half) and j < len(right_half):\n",
    "            if left_half[i] < right_half[j]:\n",
    "                lst[k] = left_half[i]\n",
    "                i += 1\n",
    "            else:\n",
    "                lst[k] = right_half[j]\n",
    "                j += 1\n",
    "            k += 1\n",
    "        \n",
    "        while i < len(left_half):\n",
    "            lst[k] = left_half[i]\n",
    "            i += 1\n",
    "            k += 1\n",
    "        while j < len(right_half):\n",
    "            lst[k] = right_half[j]\n",
    "            j += 1\n",
    "            k += 1\n",
    "        return lst\n",
    "def insertion_sort(arr):\n",
    "    for i in range(1, len(arr)):\n",
    "        key = arr[i]\n",
    "        j = i - 1\n",
    "        while j >= 0 and key < arr[j]:\n",
    "            arr[j + 1] = arr[j]\n",
    "            j -= 1\n",
    "            arr[j + 1] = key\n",
    "        \n",
    "my_list = []\n",
    "    \n",
    "for i in range(10):\n",
    "    my_list.append(random.randint(0, 999))\n",
    "print(\"\\nUnsorted List\")\n",
    "print(my_list)\n",
    "print(\"Sorting using Insertion Sort\")\n",
    "insertion_sort(my_list)\n",
    "print(my_list)\n",
    "my_list = []\n",
    "for i in range(10):\n",
    "    my_list.append(random.randint(0, 999))\n",
    "print(\"\\nUnsorted List\")\n",
    "print(my_list)\n",
    "print(\"Sorting using Merge Sort\")\n",
    "merge_sort(my_list)\n",
    "print(my_list)"
   ]
  },
  {
   "cell_type": "code",
   "execution_count": null,
   "id": "ef11ad65",
   "metadata": {},
   "outputs": [],
   "source": []
  }
 ],
 "metadata": {
  "kernelspec": {
   "display_name": "Python 3 (ipykernel)",
   "language": "python",
   "name": "python3"
  },
  "language_info": {
   "codemirror_mode": {
    "name": "ipython",
    "version": 3
   },
   "file_extension": ".py",
   "mimetype": "text/x-python",
   "name": "python",
   "nbconvert_exporter": "python",
   "pygments_lexer": "ipython3",
   "version": "3.10.9"
  }
 },
 "nbformat": 4,
 "nbformat_minor": 5
}
