{
 "cells": [
  {
   "cell_type": "markdown",
   "id": "a0669313",
   "metadata": {},
   "source": [
    "## (A) Test Average"
   ]
  },
  {
   "cell_type": "code",
   "execution_count": 1,
   "id": "9e82a1d3",
   "metadata": {},
   "outputs": [
    {
     "name": "stdout",
     "output_type": "stream",
     "text": [
      "Enter marks for test1 : 45\n",
      "Enter marks for test2 : 39\n",
      "Enter marks for test3 : 48\n",
      "Average of best two test marks out of three test’s marks is 46.5\n"
     ]
    }
   ],
   "source": [
    "m1 = int(input(\"Enter marks for test1 : \"))\n",
    "m2 = int(input(\"Enter marks for test2 : \"))\n",
    "m3 = int(input(\"Enter marks for test3 : \"))\n",
    "\n",
    "if m1 <= m2 and m1 <= m3:\n",
    "    avgMarks = (m2+m3)/2\n",
    "elif m2 <= m1 and m2 <= m3:\n",
    "    avgMarks = (m1+m3)/2\n",
    "elif m3 <= m1 and m2 <= m2:\n",
    "    avgMarks = (m1+m2)/2\n",
    "\n",
    "print(\"Average of best two test marks out of three test’s marks is\", avgMarks);\n"
   ]
  },
  {
   "cell_type": "markdown",
   "id": "30b6c155",
   "metadata": {},
   "source": [
    "## (B) Palindrome"
   ]
  },
  {
   "cell_type": "code",
   "execution_count": 2,
   "id": "e6741f1a",
   "metadata": {},
   "outputs": [
    {
     "name": "stdout",
     "output_type": "stream",
     "text": [
      "Enter a value : 12321\n",
      "Palindrome\n",
      "1 appears 2 times\n",
      "2 appears 2 times\n",
      "3 appears 1 times\n"
     ]
    }
   ],
   "source": [
    "val = int(input(\"Enter a value : \"))\n",
    "str_val = str(val)\n",
    "if str_val == str_val[::-1]:\n",
    "    print(\"Palindrome\")\n",
    "else:\n",
    "    print(\"Not Palindrome\")\n",
    "\n",
    "for i in range(10):\n",
    "    if str_val.count(str(i)) > 0:\n",
    "        print(str(i),\"appears\", str_val.count(str(i)), \"times\");\n"
   ]
  }
 ],
 "metadata": {
  "kernelspec": {
   "display_name": "Python 3 (ipykernel)",
   "language": "python",
   "name": "python3"
  },
  "language_info": {
   "codemirror_mode": {
    "name": "ipython",
    "version": 3
   },
   "file_extension": ".py",
   "mimetype": "text/x-python",
   "name": "python",
   "nbconvert_exporter": "python",
   "pygments_lexer": "ipython3",
   "version": "3.11.1"
  }
 },
 "nbformat": 4,
 "nbformat_minor": 5
}
