{
 "cells": [
  {
   "cell_type": "markdown",
   "id": "db37374a-5281-43ce-8f4f-50ec7b24b6d4",
   "metadata": {},
   "source": [
    "## 10A"
   ]
  },
  {
   "cell_type": "code",
   "execution_count": null,
   "id": "0ef2c81e-830b-4449-a3b1-b5e5cb666490",
   "metadata": {},
   "outputs": [],
   "source": [
    "from PyPDF2 import PdfWriter, PdfReader\n",
    "num = int(input(\"Enter page number you want combine from multiple documents\"))\n",
    "pdf1 = open('DAA.pdf', 'rb')\n",
    "pdf2 = open('Python.pdf', 'rb')\n",
    "pdf_writer = PdfWriter()\n",
    "pdf1_reader = PdfReader(pdf1)\n",
    "page = pdf1_reader.pages[num - 1]\n",
    "pdf_writer.add_page(page)\n",
    "pdf2_reader = PdfReader(pdf2)\n",
    "page = pdf2_reader.pages[num - 1]\n",
    "pdf_writer.add_page(page)\n",
    "with open('output.pdf', 'wb') as output:\n",
    "    pdf_writer.write(output)\n",
    "    print('pdf created')"
   ]
  },
  {
   "cell_type": "markdown",
   "id": "1e646abf-0794-42e9-9608-8df3cd69f2c5",
   "metadata": {},
   "source": [
    "## 10B"
   ]
  },
  {
   "cell_type": "code",
   "execution_count": null,
   "id": "cc27f49d-268a-4821-b449-282a217bb816",
   "metadata": {},
   "outputs": [],
   "source": []
  }
 ],
 "metadata": {
  "kernelspec": {
   "display_name": "Python 3 (ipykernel)",
   "language": "python",
   "name": "python3"
  },
  "language_info": {
   "codemirror_mode": {
    "name": "ipython",
    "version": 3
   },
   "file_extension": ".py",
   "mimetype": "text/x-python",
   "name": "python",
   "nbconvert_exporter": "python",
   "pygments_lexer": "ipython3",
   "version": "3.11.4"
  }
 },
 "nbformat": 4,
 "nbformat_minor": 5
}
