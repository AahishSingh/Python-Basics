{
 "cells": [
  {
   "cell_type": "markdown",
   "id": "db37374a-5281-43ce-8f4f-50ec7b24b6d4",
   "metadata": {},
   "source": [
    "## (A) Merge multiple PDF into one New PDF file"
   ]
  },
  {
   "cell_type": "code",
   "execution_count": 2,
   "id": "0ef2c81e-830b-4449-a3b1-b5e5cb666490",
   "metadata": {},
   "outputs": [
    {
     "name": "stdin",
     "output_type": "stream",
     "text": [
      "Enter page number you want combine from multiple documents 1\n"
     ]
    },
    {
     "name": "stdout",
     "output_type": "stream",
     "text": [
      "pdf created\n"
     ]
    }
   ],
   "source": [
    "from PyPDF2 import PdfWriter, PdfReader\n",
    "num = int(input(\"Enter page number you want combine from multiple documents\"))\n",
    "pdf1 = open('Python Part 1.pdf', 'rb')\n",
    "pdf2 = open('Python Part 2.pdf', 'rb')\n",
    "pdf_writer = PdfWriter()\n",
    "pdf1_reader = PdfReader(pdf1)\n",
    "page = pdf1_reader.pages[num - 1]\n",
    "pdf_writer.add_page(page)\n",
    "pdf2_reader = PdfReader(pdf2)\n",
    "page = pdf2_reader.pages[num - 1]\n",
    "pdf_writer.add_page(page)\n",
    "with open('output.pdf', 'wb') as output:\n",
    "    pdf_writer.write(output)\n",
    "    print('pdf created')"
   ]
  },
  {
   "cell_type": "markdown",
   "id": "1e646abf-0794-42e9-9608-8df3cd69f2c5",
   "metadata": {},
   "source": [
    "## (B) Fetch Weather Data from JSON"
   ]
  },
  {
   "cell_type": "code",
   "execution_count": 2,
   "id": "cc27f49d-268a-4821-b449-282a217bb816",
   "metadata": {},
   "outputs": [
    {
     "name": "stdout",
     "output_type": "stream",
     "text": [
      "Current Weather Data:\n",
      "City: New York\n",
      "Temperature: {'temp': 15.45, 'feels_like': 12.74, 'temp_min': 14.44, 'temp_max': 16.11, 'pressure': 1017, 'humidity': 64}°C\n",
      "Coordinates: {'lon': -73.99, 'lat': 40.73}°\n",
      "Conditions: {'type': 1, 'id': 5141, 'country': 'US', 'sunrise': 1617951158, 'sunset': 1618000213}\n"
     ]
    }
   ],
   "source": [
    "import json\n",
    "\n",
    "def fetch_weather_data_from_json(file_path):\n",
    "    try:\n",
    "        with open(file_path, \"r\") as json_file:\n",
    "            weather_data = json.load(json_file)\n",
    "            return weather_data\n",
    "    except FileNotFoundError:\n",
    "        print(f\"File not found: {file_path}\")\n",
    "    except json.JSONDecodeError:\n",
    "        print(f\"Invalid JSON format in the file: {file_path}\")\n",
    "    except Exception as e:\n",
    "        print(f\"Error occurred while reading the JSON file: {e}\")\n",
    "    return None\n",
    "\n",
    "if __name__ == \"__main__\":\n",
    "    file_path = \"data.json\"\n",
    "    weather = fetch_weather_data_from_json(file_path)\n",
    "\n",
    "    if weather:\n",
    "        print(\"Current Weather Data:\")\n",
    "        print(f\"City: {weather['name']}\")\n",
    "        print(f\"Temperature: {weather['main']}°C\")\n",
    "        print(f\"Coordinates: {weather['coord']}°\")\n",
    "        print(f\"Conditions: {weather['sys']}\")\n",
    "    else:\n",
    "        print(\"Failed to fetch weather data from the JSON file.\")"
   ]
  }
 ],
 "metadata": {
  "kernelspec": {
   "display_name": "Python 3 (ipykernel)",
   "language": "python",
   "name": "python3"
  },
  "language_info": {
   "codemirror_mode": {
    "name": "ipython",
    "version": 3
   },
   "file_extension": ".py",
   "mimetype": "text/x-python",
   "name": "python",
   "nbconvert_exporter": "python",
   "pygments_lexer": "ipython3",
   "version": "3.11.5"
  }
 },
 "nbformat": 4,
 "nbformat_minor": 5
}
