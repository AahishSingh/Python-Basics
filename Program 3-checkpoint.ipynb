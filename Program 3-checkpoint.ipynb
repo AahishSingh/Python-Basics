{
 "cells": [
  {
   "cell_type": "markdown",
   "id": "f7555472",
   "metadata": {},
   "source": [
    "## (A) Sentence Statistics"
   ]
  },
  {
   "cell_type": "code",
   "execution_count": 1,
   "id": "2d106e64",
   "metadata": {},
   "outputs": [
    {
     "name": "stdout",
     "output_type": "stream",
     "text": [
      "Enter a sentence : Rama went to Devaraja market to pick 2 kgs of vegetable\n",
      "This sentence has 11 words\n",
      "This sentence has 1 digits 2 upper case letters 42 lower case letters\n"
     ]
    }
   ],
   "source": [
    "sentence = input(\"Enter a sentence : \")\n",
    "\n",
    "wordList = sentence.split(\" \")\n",
    "print(\"This sentence has\", len(wordList), \"words\")\n",
    "\n",
    "digCnt = upCnt = loCnt = 0\n",
    "\n",
    "for ch in sentence:\n",
    "    if '0' <= ch <= '9':\n",
    "        digCnt += 1\n",
    "    elif 'A' <= ch <= 'Z':\n",
    "        upCnt += 1\n",
    "    elif 'a' <= ch <= 'z':\n",
    "        loCnt += 1\n",
    "print(\"This sentence has\", digCnt, \"digits\", upCnt, \"upper case letters\", loCnt, \n",
    "\"lower case letters\")"
   ]
  },
  {
   "cell_type": "markdown",
   "id": "ee8e8ac3",
   "metadata": {},
   "source": [
    "## (B) String Similarity"
   ]
  },
  {
   "cell_type": "code",
   "execution_count": 2,
   "id": "a8678dbe",
   "metadata": {},
   "outputs": [
    {
     "name": "stdout",
     "output_type": "stream",
     "text": [
      "Enter String 1 \n",
      "Python Exercises\n",
      "Enter String 2 \n",
      "Python Exercises\n",
      "Similarity between two said strings:\n",
      "1.0\n"
     ]
    }
   ],
   "source": [
    "str1 = input(\"Enter String 1 \\n\")\n",
    "str2 = input(\"Enter String 2 \\n\")\n",
    "if len(str2) < len(str1):\n",
    "    short = len(str2)\n",
    "    long = len(str1)\n",
    "else:\n",
    "    short = len(str1)\n",
    "    long = len(str2)\n",
    "    \n",
    "matchCnt = 0\n",
    "for i in range(short):\n",
    "    if str1[i] == str2[i]:\n",
    "        matchCnt += 1\n",
    "print(\"Similarity between two said strings:\")\n",
    "print(matchCnt/long)"
   ]
  }
 ],
 "metadata": {
  "kernelspec": {
   "display_name": "Python 3 (ipykernel)",
   "language": "python",
   "name": "python3"
  },
  "language_info": {
   "codemirror_mode": {
    "name": "ipython",
    "version": 3
   },
   "file_extension": ".py",
   "mimetype": "text/x-python",
   "name": "python",
   "nbconvert_exporter": "python",
   "pygments_lexer": "ipython3",
   "version": "3.11.1"
  }
 },
 "nbformat": 4,
 "nbformat_minor": 5
}
