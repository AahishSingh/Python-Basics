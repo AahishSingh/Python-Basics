{
 "cells": [
  {
   "cell_type": "markdown",
   "id": "6d714d38",
   "metadata": {},
   "source": [
    "## (A) Insertion Sort and Merge Sort"
   ]
  },
  {
   "cell_type": "code",
   "execution_count": 1,
   "id": "3e0691da",
   "metadata": {},
   "outputs": [
    {
     "name": "stdout",
     "output_type": "stream",
     "text": [
      "\n",
      "Unsorted List\n",
      "[458, 182, 576, 531, 581, 871, 91, 663, 520, 273]\n",
      "Sorting using Insertion Sort\n",
      "[91, 182, 273, 458, 520, 531, 576, 581, 663, 871]\n",
      "\n",
      "Unsorted List\n",
      "[512, 409, 671, 874, 967, 955, 184, 226, 674, 809]\n",
      "Sorting using Merge Sort\n",
      "[184, 226, 409, 512, 671, 674, 809, 874, 955, 967]\n"
     ]
    }
   ],
   "source": [
    "import random\n",
    "def merge_sort(lst):\n",
    "    if len(lst) > 1:\n",
    "        mid = len(lst) // 2\n",
    "        left_half = lst[:mid]\n",
    "        right_half = lst[mid:]\n",
    "        \n",
    "        merge_sort(left_half)\n",
    "        merge_sort(right_half)\n",
    "        \n",
    "        i = j = k = 0\n",
    "        \n",
    "        while i < len(left_half) and j < len(right_half):\n",
    "            if left_half[i] < right_half[j]:\n",
    "                lst[k] = left_half[i]\n",
    "                i += 1\n",
    "            else:\n",
    "                lst[k] = right_half[j]\n",
    "                j += 1\n",
    "            k += 1\n",
    "        \n",
    "        while i < len(left_half):\n",
    "            lst[k] = left_half[i]\n",
    "            i += 1\n",
    "            k += 1\n",
    "        while j < len(right_half):\n",
    "            lst[k] = right_half[j]\n",
    "            j += 1\n",
    "            k += 1\n",
    "        return lst\n",
    "def insertion_sort(arr):\n",
    "    for i in range(1, len(arr)):\n",
    "        key = arr[i]\n",
    "        j = i - 1\n",
    "        while j >= 0 and key < arr[j]:\n",
    "            arr[j + 1] = arr[j]\n",
    "            j -= 1\n",
    "            arr[j + 1] = key\n",
    "        \n",
    "my_list = []\n",
    "    \n",
    "for i in range(10):\n",
    "    my_list.append(random.randint(0, 999))\n",
    "print(\"\\nUnsorted List\")\n",
    "print(my_list)\n",
    "print(\"Sorting using Insertion Sort\")\n",
    "insertion_sort(my_list)\n",
    "print(my_list)\n",
    "my_list = []\n",
    "for i in range(10):\n",
    "    my_list.append(random.randint(0, 999))\n",
    "print(\"\\nUnsorted List\")\n",
    "print(my_list)\n",
    "print(\"Sorting using Merge Sort\")\n",
    "merge_sort(my_list)\n",
    "print(my_list)"
   ]
  },
  {
   "cell_type": "markdown",
   "id": "e9f825c1",
   "metadata": {},
   "source": [
    "## (B) Convert Roman Number to Integer Number"
   ]
  },
  {
   "cell_type": "code",
   "execution_count": 2,
   "id": "941210df",
   "metadata": {},
   "outputs": [
    {
     "name": "stdout",
     "output_type": "stream",
     "text": [
      "Enter a Roman Number : MLXVI\n",
      "1066\n"
     ]
    }
   ],
   "source": [
    "def roman2Dec(romStr):\n",
    "    roman_dict ={'I': 1, 'V': 5, 'X': 10, 'L': 50, 'C': 100, 'D': 500, 'M': 1000}\n",
    "    romanBack = list(romStr)[::-1]\n",
    "    value = 0\n",
    "\n",
    "    rightVal = roman_dict[romanBack[0]] \n",
    "    for numeral in romanBack:\n",
    "        leftVal = roman_dict[numeral]\n",
    "\n",
    "        if leftVal < rightVal:\n",
    "            value -= leftVal\n",
    "        else:\n",
    "            value += leftVal\n",
    "        rightVal = leftVal\n",
    "    return value\n",
    "romanStr = input(\"Enter a Roman Number : \")\n",
    "print(roman2Dec(romanStr))"
   ]
  }
 ],
 "metadata": {
  "kernelspec": {
   "display_name": "Python 3 (ipykernel)",
   "language": "python",
   "name": "python3"
  },
  "language_info": {
   "codemirror_mode": {
    "name": "ipython",
    "version": 3
   },
   "file_extension": ".py",
   "mimetype": "text/x-python",
   "name": "python",
   "nbconvert_exporter": "python",
   "pygments_lexer": "ipython3",
   "version": "3.11.1"
  }
 },
 "nbformat": 4,
 "nbformat_minor": 5
}
