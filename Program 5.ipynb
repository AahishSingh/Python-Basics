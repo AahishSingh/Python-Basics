{
 "cells": [
  {
   "cell_type": "markdown",
   "id": "d2f7f3b0",
   "metadata": {},
   "source": [
    "## (A) Check Phone Number"
   ]
  },
  {
   "cell_type": "code",
   "execution_count": 1,
   "id": "b89292cc",
   "metadata": {},
   "outputs": [
    {
     "name": "stdout",
     "output_type": "stream",
     "text": [
      "Enter a phone number : 620-710-2671\n",
      "Without using Regular Expression\n",
      "Valid phone number\n",
      "Using Regular Expression\n",
      "Valid phone number\n"
     ]
    }
   ],
   "source": [
    "import re\n",
    "def isphonenumber(numStr):\n",
    "    if len(numStr) != 12:\n",
    "        return False\n",
    "    for i in range(len(numStr)):\n",
    "        if i==3 or i==7:\n",
    "            if numStr[i] != \"-\":\n",
    "                return False\n",
    "        else:\n",
    "            if numStr[i].isdigit() == False:\n",
    "                return False\n",
    "    return True\n",
    "def chkphonenumber(numStr):\n",
    "    ph_no_pattern = re.compile(r'^\\d{3}-\\d{3}-\\d{4}$')\n",
    "    if ph_no_pattern.match(numStr):\n",
    "        return True\n",
    "    else:\n",
    "        return False\n",
    "ph_num = input(\"Enter a phone number : \")\n",
    "print(\"Without using Regular Expression\")\n",
    "if isphonenumber(ph_num):\n",
    "    print(\"Valid phone number\")\n",
    "else:\n",
    "    print(\"Invalid phone number\")\n",
    "print(\"Using Regular Expression\")\n",
    "if chkphonenumber(ph_num):\n",
    "    print(\"Valid phone number\")\n",
    "else:\n",
    "    print(\"Invalid phone number\")"
   ]
  },
  {
   "cell_type": "markdown",
   "id": "55020ed1",
   "metadata": {},
   "source": [
    "## (B) Search Phone Number and e-mail"
   ]
  },
  {
   "cell_type": "code",
   "execution_count": 26,
   "id": "33b40f77",
   "metadata": {},
   "outputs": [
    {
     "name": "stdout",
     "output_type": "stream",
     "text": [
      "someone12@example.in\n",
      "+919876543210\n"
     ]
    }
   ],
   "source": [
    "import re\n",
    "\n",

    "phone_regex = re.compile(r'\\+\\d{12}')\n",
    "email_regex = re.compile(r'[A-Za-z0-9._]+@[A-Za-z0-9]+\\.[A-Z|a-z]{2,}')\n",

    "with open('a.txt', 'r') as f:\n",
    "    for line in f:\n",

    "        matches = phone_regex.findall(line)\n",
    "      
    "        for match in matches:\n",
    "            print(match)\n",
    "            \n",
    "        matches = email_regex.findall(line)\n",
    "       
    "        for match in matches:\n",
    "            print(match) "
   ]
  }
 ],
 "metadata": {
  "kernelspec": {
   "display_name": "Python 3 (ipykernel)",
   "language": "python",
   "name": "python3"
  },
  "language_info": {
   "codemirror_mode": {
    "name": "ipython",
    "version": 3
   },
   "file_extension": ".py",
   "mimetype": "text/x-python",
   "name": "python",
   "nbconvert_exporter": "python",
   "pygments_lexer": "ipython3",
   "version": "3.11.1"
  }
 },
 "nbformat": 4,
 "nbformat_minor": 5
}
