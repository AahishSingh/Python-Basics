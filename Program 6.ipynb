{
 "cells": [
  {
   "cell_type": "markdown",
   "id": "1a14fde0-21d1-4da5-9bd3-92b2f7a53205",
   "metadata": {},
   "source": [
    "## (A) File Operation"
   ]
  },
  {
   "cell_type": "code",
   "execution_count": 3,
   "id": "16dea2d1-2c34-40fb-8eb6-101a98f05e05",
   "metadata": {},
   "outputs": [
    {
     "name": "stdin",
     "output_type": "stream",
     "text": [
      "Enter the filename :  a.txt\n"
     ]
    },
    {
     "name": "stdout",
     "output_type": "stream",
     "text": [
      "1 : someone12@example.in\n",
      "\n"
     ]
    },
    {
     "name": "stdin",
     "output_type": "stream",
     "text": [
      "Enter a word :  a\n"
     ]
    },
    {
     "name": "stdout",
     "output_type": "stream",
     "text": [
      "The word a appears 1 times in the file\n"
     ]
    }
   ],
   "source": [
    "import os.path\n",
    "import sys\n",
    "fname = input(\"Enter the filename : \")\n",
    "if not os.path.isfile(fname):\n",
    "    print(\"File\", fname, \"doesn't exists\")\n",
    "    sys.exit(0)\n",
    "infile = open(fname, \"r\")\n",
    "lineList = infile.readlines()\n",
    "for i in range(1):\n",
    "    print(i+1, \":\", lineList[i])\n",
    "word = input(\"Enter a word : \")\n",
    "cnt = 0\n",
    "for line in lineList:\n",
    "    cnt += line.count(word)\n",
    "print(\"The word\", word, \"appears\", cnt, \"times in the file\")\n"
   ]
  },
  {
   "cell_type": "markdown",
   "id": "696c451b-0f6d-431e-ba74-6125a2ee59e2",
   "metadata": {},
   "source": [
    "## (B) Zip Operation on Folder"
   ]
  },
  {
   "cell_type": "code",
   "execution_count": 4,
   "id": "96c23c1f-928b-458a-8afb-0f120415ddcf",
   "metadata": {},
   "outputs": [
    {
     "name": "stdin",
     "output_type": "stream",
     "text": [
      "Enter Directory name that you want to backup :  A:\\Java\n"
     ]
    },
    {
     "name": "stdout",
     "output_type": "stream",
     "text": [
      "Archive myZip.zip created successfully\n"
     ]
    }
   ],
   "source": [
    "import os\n",
    "import sys\n",
    "import pathlib\n",
    "import zipfile\n",
    "dirName = input(\"Enter Directory name that you want to backup : \")\n",
    "if not os.path.isdir(dirName):\n",
    "    print(\"Directory\", dirName, \"doesn't exists\")\n",
    "    sys.exit(0)\n",
    "\n",
    "curDirectory = pathlib.Path(dirName)\n",
    "\n",
    "with zipfile.ZipFile(\"myZip.zip\", mode=\"w\") as archive:\n",
    "    for file_path in curDirectory.rglob(\"*\"):\n",
    "        archive.write(file_path, arcname=file_path.relative_to(curDirectory))\n",
    "\n",
    "if os.path.isfile(\"myZip.zip\"):\n",
    "    print(\"Archive\", \"myZip.zip\", \"created successfully\")\n",
    "else:\n",
    "    print(\"Error in creating zip archive\")"
   ]
  }
 ],
 "metadata": {
  "kernelspec": {
   "display_name": "Python 3 (ipykernel)",
   "language": "python",
   "name": "python3"
  },
  "language_info": {
   "codemirror_mode": {
    "name": "ipython",
    "version": 3
   },
   "file_extension": ".py",
   "mimetype": "text/x-python",
   "name": "python",
   "nbconvert_exporter": "python",
   "pygments_lexer": "ipython3",
   "version": "3.11.5"
  }
 },
 "nbformat": 4,
 "nbformat_minor": 5
}
