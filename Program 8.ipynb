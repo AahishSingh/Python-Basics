{
 "cells": [
  {
   "cell_type": "code",
   "execution_count": 1,
   "id": "9e60e03c-0149-44d4-9bc9-dbd57d02d22f",
   "metadata": {},
   "outputs": [
    {
     "name": "stdin",
     "output_type": "stream",
     "text": [
      "Enter a string :  civic\n"
     ]
    },
    {
     "name": "stdout",
     "output_type": "stream",
     "text": [
      "Given string is a Palindrome\n"
     ]
    },
    {
     "name": "stdin",
     "output_type": "stream",
     "text": [
      "Enter a integer :  123\n"
     ]
    },
    {
     "name": "stdout",
     "output_type": "stream",
     "text": [
      "Given integer is not a Palindrome\n"
     ]
    }
   ],
   "source": [
    "class PaliStr:\n",
    "    def __init__(self):\n",
    "        self.isPali = False\n",
    "\n",
    "    def chkPalindrome(self, myStr):\n",
    "        if myStr == myStr[::-1]:\n",
    "            self.isPali = True\n",
    "        else:\n",
    "            self.isPali = False\n",
    "\n",
    "        return self.isPali\n",
    "\n",
    "class PaliInt(PaliStr):\n",
    "    def __init__(self):\n",
    "        self.isPali = False\n",
    "\n",
    "    def chkPalindrome(self, val):\n",
    "        temp = val\n",
    "        rev = 0\n",
    "        while temp != 0:\n",
    "            dig = temp % 10\n",
    "            rev = (rev*10) + dig\n",
    "            temp = temp //10\n",
    "\n",
    "        if val == rev:\n",
    "            self.isPali = True\n",
    "        else:\n",
    "            self.isPali = False\n",
    "\n",
    "        return self.isPali\n",
    "st = input(\"Enter a string : \")\n",
    "stObj = PaliStr()\n",
    "if stObj.chkPalindrome(st):\n",
    "    print(\"Given string is a Palindrome\")\n",
    "else:\n",
    "    print(\"Given string is not a Palindrome\")\n",
    "val = int(input(\"Enter a integer : \"))\n",
    "intObj = PaliInt()\n",
    "if intObj.chkPalindrome(val):\n",
    "     print(\"Given integer is a Palindrome\")\n",
    "else:\n",
    "     print(\"Given integer is not a Palindrome\")"
   ]
  }
 ],
 "metadata": {
  "kernelspec": {
   "display_name": "Python 3 (ipykernel)",
   "language": "python",
   "name": "python3"
  },
  "language_info": {
   "codemirror_mode": {
    "name": "ipython",
    "version": 3
   },
   "file_extension": ".py",
   "mimetype": "text/x-python",
   "name": "python",
   "nbconvert_exporter": "python",
   "pygments_lexer": "ipython3",
   "version": "3.11.4"
  }
 },
 "nbformat": 4,
 "nbformat_minor": 5
}
